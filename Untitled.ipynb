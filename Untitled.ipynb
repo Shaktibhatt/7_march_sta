{
 "cells": [
  {
   "cell_type": "markdown",
   "id": "139649e4-ed08-48d2-a282-0f845d33e51a",
   "metadata": {},
   "source": [
    "Ques 1\n",
    "\n",
    " Mean mode and median are three measures of central tendency"
   ]
  },
  {
   "cell_type": "markdown",
   "id": "0fa5849b-5119-455b-844f-90bb29a9fdae",
   "metadata": {},
   "source": [
    "Ques 2\n",
    "\n",
    "mean is calculated to find the central tendacy of a structured data without having any outliers\n",
    "mode is used to fill the missing data in categorical dataset\n",
    "median is used in place of mean when outliers are present in the data for filling the missing data"
   ]
  },
  {
   "cell_type": "markdown",
   "id": "df3ea0df-6a7c-4450-9a74-6cc2385dbc2b",
   "metadata": {},
   "source": [
    "Ques 3"
   ]
  },
  {
   "cell_type": "code",
   "execution_count": 2,
   "id": "8b599abe-e067-48b3-8d7c-e6eeb30db0b9",
   "metadata": {},
   "outputs": [
    {
     "data": {
      "text/plain": [
       "177.01875"
      ]
     },
     "execution_count": 2,
     "metadata": {},
     "output_type": "execute_result"
    }
   ],
   "source": [
    "import numpy as np \n",
    "l= [178,177,176,177,178.2,178,175,179,180,175,178.9,176.2,177,172.5,178,176.5]\n",
    "np.mean(l)"
   ]
  },
  {
   "cell_type": "code",
   "execution_count": 3,
   "id": "f870aecd-fb05-4155-905e-2ebbacdedfcd",
   "metadata": {},
   "outputs": [
    {
     "data": {
      "text/plain": [
       "177.0"
      ]
     },
     "execution_count": 3,
     "metadata": {},
     "output_type": "execute_result"
    }
   ],
   "source": [
    "np.median(l)"
   ]
  },
  {
   "cell_type": "code",
   "execution_count": 9,
   "id": "848699f7-b216-405c-b3fa-678ee8053e14",
   "metadata": {},
   "outputs": [
    {
     "name": "stderr",
     "output_type": "stream",
     "text": [
      "/tmp/ipykernel_90/3166281013.py:2: FutureWarning: Unlike other reduction functions (e.g. `skew`, `kurtosis`), the default behavior of `mode` typically preserves the axis it acts along. In SciPy 1.11.0, this behavior will change: the default value of `keepdims` will become False, the `axis` over which the statistic is taken will be eliminated, and the value None will no longer be accepted. Set `keepdims` to True or False to avoid this warning.\n",
      "  x= stats.mode(l)\n"
     ]
    }
   ],
   "source": [
    "from scipy import stats\n",
    "x= stats.mode(l)"
   ]
  },
  {
   "cell_type": "code",
   "execution_count": 10,
   "id": "cda9d85d-96c4-4f8c-86d1-0fdf34287f99",
   "metadata": {},
   "outputs": [
    {
     "data": {
      "text/plain": [
       "ModeResult(mode=array([177.]), count=array([3]))"
      ]
     },
     "execution_count": 10,
     "metadata": {},
     "output_type": "execute_result"
    }
   ],
   "source": [
    "x"
   ]
  },
  {
   "cell_type": "markdown",
   "id": "61073751-3893-4448-84e2-9485d158e9d7",
   "metadata": {},
   "source": [
    "Ques 4"
   ]
  },
  {
   "cell_type": "code",
   "execution_count": 11,
   "id": "34972ad5-4afa-4912-a83c-9903cd0ae6a0",
   "metadata": {},
   "outputs": [],
   "source": [
    " xyz=[178,177,176,177,178.2,178,175,179,180,175,178.9,176.2,177,172.5,178,176.5]"
   ]
  },
  {
   "cell_type": "code",
   "execution_count": 12,
   "id": "0b064078-1d62-48fc-974c-c98653bfe55f",
   "metadata": {},
   "outputs": [],
   "source": [
    "import numpy"
   ]
  },
  {
   "cell_type": "code",
   "execution_count": 17,
   "id": "a779a2a8-8d01-4da2-a141-3b7bcf8f7a62",
   "metadata": {},
   "outputs": [
    {
     "data": {
      "text/plain": [
       "1.7885814036548633"
      ]
     },
     "execution_count": 17,
     "metadata": {},
     "output_type": "execute_result"
    }
   ],
   "source": [
    "numpy.std(xyz)"
   ]
  },
  {
   "cell_type": "code",
   "execution_count": null,
   "id": "3a353b9c-888a-4495-8c64-5d31f5715f40",
   "metadata": {},
   "outputs": [],
   "source": [
    "How are measures of dispersion such as range, variance, and standard deviation used to describe\n",
    "the spread of a dataset?"
   ]
  },
  {
   "cell_type": "markdown",
   "id": "b24ccf1c-b5c3-4b8c-8f9b-a03d9548d29e",
   "metadata": {},
   "source": [
    "Ques 5\n",
    "\n",
    "Dispersion is more when sd or variance is more, standard deviation is more means each points are more farther than the mean or median of the normal distribution , \n",
    "Low standard deviation means data are clustered around the mean"
   ]
  },
  {
   "cell_type": "markdown",
   "id": "c369ad0b-0037-469d-9769-d881e3db3627",
   "metadata": {},
   "source": [
    "Ques 6\n",
    "\n",
    "A Venn diagram illustrates the relationships between two or more data sets. \n",
    "Venn diagrams are especially useful for highlighting similarities and differences.\n",
    "It shows different set operations such as the intersection of sets, union of sets and difference of sets\n"
   ]
  },
  {
   "cell_type": "markdown",
   "id": "b66eb6a3-f873-4e51-8dab-7447733fa729",
   "metadata": {},
   "source": [
    "Ques 7"
   ]
  },
  {
   "cell_type": "code",
   "execution_count": 34,
   "id": "e0ded61a-6e32-4f29-a6ab-bea84d62b9b0",
   "metadata": {},
   "outputs": [
    {
     "data": {
      "text/plain": [
       "array([2, 6])"
      ]
     },
     "execution_count": 34,
     "metadata": {},
     "output_type": "execute_result"
    }
   ],
   "source": [
    "import numpy as np\n",
    "A = (2,3,4,5,6,7) \n",
    "B = (0,2,6,8,10)\n",
    "np.intersect1d(A, B)"
   ]
  },
  {
   "cell_type": "code",
   "execution_count": 35,
   "id": "d3c4f3e5-5cc5-4571-a726-8c2cac89086e",
   "metadata": {},
   "outputs": [
    {
     "data": {
      "text/plain": [
       "array([ 0,  2,  3,  4,  5,  6,  7,  8, 10])"
      ]
     },
     "execution_count": 35,
     "metadata": {},
     "output_type": "execute_result"
    }
   ],
   "source": [
    "np.union1d( A,B)"
   ]
  },
  {
   "cell_type": "markdown",
   "id": "2c846ed4-5dd3-48b6-8376-0446a5ca908b",
   "metadata": {},
   "source": [
    " Ques 8\n",
    " \n",
    "Skewness is a measurement of the distortion of symmetrical distribution or asymmetry in a data set. \n",
    "Skewness is demonstrated on a bell curve when data points are not distributed symmetrically to the left and right sides of the median on a bell curve."
   ]
  },
  {
   "cell_type": "markdown",
   "id": "9cc1df40-98f9-44f1-a444-22cc7bfdcb1a",
   "metadata": {},
   "source": [
    "Ques 9\n",
    "\n",
    "If the distribution of data is skewed to the right, the mean less than the median."
   ]
  },
  {
   "cell_type": "markdown",
   "id": "2a172814-5e96-4445-994c-aecf2eb142dd",
   "metadata": {},
   "source": [
    "Ques 10\n",
    "\n",
    "Covariance is an indicator that how two random variables are dependent on each other. A higher number denotes higher dependency on each other.\n",
    "The value of covariance lies in the range of - infintity to +infinity\n",
    "Correlation is a statistical measure that indicates how strongly two variables are related. \n",
    "    \n",
    "    \n",
    "    \n",
    "    Negative covariance means if input is increasing then output is decreasing and vice versa for positive covariance."
   ]
  },
  {
   "cell_type": "markdown",
   "id": "dee24916-98e1-4c09-9f31-e391ca47162d",
   "metadata": {},
   "source": [
    "Ques 11\n",
    "\n",
    " x̄ = ( Σ xi ) ÷ n A teacher wants to find the average score for a student in his class. The teacher's sample set has seven different test scores: 78, 89, 93, 95, 88, 78, 95\n",
    " A teacher wants to find the average score for a student in his class. The teacher's sample set has seven different test scores: 78, 89, 93, 95, 88, 78, 95"
   ]
  },
  {
   "cell_type": "code",
   "execution_count": 36,
   "id": "ab99f11d-d3a4-4347-be02-d8cdab38c066",
   "metadata": {},
   "outputs": [],
   "source": [
    "l=[78, 89, 93, 95, 88, 78, 95]"
   ]
  },
  {
   "cell_type": "code",
   "execution_count": 37,
   "id": "a762666f-6012-41b6-ab56-1249dd754c99",
   "metadata": {},
   "outputs": [],
   "source": [
    "import  functools\n",
    "\n",
    "sum1=(functools.reduce( lambda x,y: x+y, l))\n",
    "t=len(l)\n",
    "y=sum1/t"
   ]
  },
  {
   "cell_type": "code",
   "execution_count": 38,
   "id": "aeda7dd1-9961-4c81-a899-ebf1f3e19cab",
   "metadata": {},
   "outputs": [
    {
     "data": {
      "text/plain": [
       "88.0"
      ]
     },
     "execution_count": 38,
     "metadata": {},
     "output_type": "execute_result"
    }
   ],
   "source": [
    "y"
   ]
  },
  {
   "cell_type": "markdown",
   "id": "7db44884-79d4-43b3-bb02-fbf0bf2f4a11",
   "metadata": {},
   "source": [
    "Ques 13\n",
    "\n",
    "Covariance indicates the direction of the linear relationship between variables.\n",
    "Correlation measures both the strength and direction of the linear relationship between two variables."
   ]
  },
  {
   "cell_type": "markdown",
   "id": "4886f1a0-d9f7-4844-9e8b-4465c49deff9",
   "metadata": {},
   "source": [
    "Ques 14\n",
    "\n",
    "Outlier can deviate the mean of any data with a great influence "
   ]
  },
  {
   "cell_type": "code",
   "execution_count": 40,
   "id": "755f9b82-c4bf-4685-b02b-d44be07d8611",
   "metadata": {},
   "outputs": [],
   "source": [
    "#example \n",
    "import numpy as np\n",
    "l=[78, 89, 93, 95, 88, 78, 95, 84 ,96 , 11001, 0, 33334]\n"
   ]
  },
  {
   "cell_type": "code",
   "execution_count": null,
   "id": "55e040d8-ac9f-4b33-bac7-0eecd1bb40c5",
   "metadata": {},
   "outputs": [],
   "source": []
  }
 ],
 "metadata": {
  "kernelspec": {
   "display_name": "Python 3 (ipykernel)",
   "language": "python",
   "name": "python3"
  },
  "language_info": {
   "codemirror_mode": {
    "name": "ipython",
    "version": 3
   },
   "file_extension": ".py",
   "mimetype": "text/x-python",
   "name": "python",
   "nbconvert_exporter": "python",
   "pygments_lexer": "ipython3",
   "version": "3.10.6"
  }
 },
 "nbformat": 4,
 "nbformat_minor": 5
}
